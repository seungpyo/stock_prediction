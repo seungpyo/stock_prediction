{
 "cells": [
  {
   "cell_type": "code",
   "execution_count": 1,
   "metadata": {},
   "outputs": [],
   "source": [
    "import torch\n",
    "from torch import nn\n",
    "\n",
    "class foo(nn.Module):\n",
    "    def __init__(self, *args, **kwargs) -> None:\n",
    "        super().__init__(*args, **kwargs)\n",
    "        self.f = nn.Linear(2, 3)\n",
    "    def forward(self, x):\n",
    "        return self.f(x)\n",
    "\n"
   ]
  },
  {
   "cell_type": "code",
   "execution_count": 2,
   "metadata": {},
   "outputs": [],
   "source": [
    "from copy import deepcopy"
   ]
  },
  {
   "cell_type": "code",
   "execution_count": 3,
   "metadata": {},
   "outputs": [],
   "source": [
    "a0 = foo()\n",
    "a1 = a0\n",
    "a2 = deepcopy(a0)\n",
    "\n",
    "x = torch.Tensor([1,2])\n",
    "y = torch.Tensor([1,2,3])\n",
    "p = a1(x)\n",
    "l = nn.functional.mse_loss(y, p)\n",
    "o = torch.optim.Adam(params=a1.parameters(), lr=10.0)\n",
    "a1.zero_grad()\n",
    "l.backward()\n",
    "o.step()\n",
    "\n",
    "\n",
    "print(a1.parameters())\n",
    "print(a2.parameters())"
   ]
  }
 ],
 "metadata": {
  "kernelspec": {
   "display_name": "stock",
   "language": "python",
   "name": "python3"
  },
  "language_info": {
   "codemirror_mode": {
    "name": "ipython",
    "version": 3
   },
   "file_extension": ".py",
   "mimetype": "text/x-python",
   "name": "python",
   "nbconvert_exporter": "python",
   "pygments_lexer": "ipython3",
   "version": "3.11.5"
  },
  "orig_nbformat": 4
 },
 "nbformat": 4,
 "nbformat_minor": 2
}
